{
 "cells": [
  {
   "cell_type": "code",
   "execution_count": 57,
   "id": "77702c98",
   "metadata": {},
   "outputs": [],
   "source": [
    "import math\n",
    "import numpy as np\n",
    "import matplotlib.pyplot as plt"
   ]
  },
  {
   "cell_type": "code",
   "execution_count": 58,
   "id": "72388c98",
   "metadata": {},
   "outputs": [],
   "source": [
    "a,b,c,d,e = -12, -18, 5, 10, -30"
   ]
  },
  {
   "cell_type": "code",
   "execution_count": 85,
   "id": "7f5b21f0",
   "metadata": {},
   "outputs": [],
   "source": [
    "limit = 10\n",
    "step = 0.01\n",
    "color = \"b\"\n",
    "change_function = {-limit: 'inc'}"
   ]
  },
  {
   "cell_type": "code",
   "execution_count": 86,
   "id": "dbe49c2d",
   "metadata": {},
   "outputs": [],
   "source": [
    "x = np.arange (-limit, limit, step)\n",
    "increase_high = True"
   ]
  },
  {
   "cell_type": "code",
   "execution_count": 87,
   "id": "29df507a",
   "metadata": {},
   "outputs": [],
   "source": [
    "def f(x):\n",
    "    function = a*x**4*np.sin(np.cos(x)) + b*x**3 + c*x**2 + d * x + e\n",
    "    return function"
   ]
  },
  {
   "cell_type": "code",
   "execution_count": 88,
   "id": "9dc67e99",
   "metadata": {},
   "outputs": [
    {
     "name": "stdout",
     "output_type": "stream",
     "text": [
      "7.0 -25610.49\n"
     ]
    }
   ],
   "source": [
    "y_min = min(np.round(f(x), 2))\n",
    "x_min = 0\n",
    "f_min = f(-limit)\n",
    "for x_cur in x:\n",
    "    if f(x_cur) < f_min:\n",
    "        f_min = np.round(f(x_cur), 2)\n",
    "        x_min = np.round(x_cur, 2)\n",
    "\n",
    "print(x_min, f_min)\n"
   ]
  },
  {
   "cell_type": "code",
   "execution_count": 89,
   "id": "6a700f96",
   "metadata": {},
   "outputs": [
    {
     "name": "stdout",
     "output_type": "stream",
     "text": [
      "{-10: 'inc', -9.98: 'inc', -7.66000000000005: 'zero', -6.830000000000068: 'inc', -5.030000000000106: 'zero', -4.170000000000124: 'inc', -1.3400000000001846: 'zero', -0.39000000000020485: 'inc', 0.44999999999977724: 'inc', 1.6999999999997506: 'inc', 2.2699999999997384: 'zero', 3.8199999999997054: 'inc', 4.3799999999996935: 'zero', 6.999999999999638: 'inc', 8.029999999999617: 'zero', 9.879999999999576: 'inc', 10: 'inc'}\n"
     ]
    }
   ],
   "source": [
    "for i in range(len(x) - 1):\n",
    "    if (f(x[i]) > 0 and f(x[i + 1]) < 0) or (f(x[i]) < 0 and f(x[i + 1]) > 0):\n",
    "        change_function[x[i]] = 'zero'\n",
    "    if increase_high:\n",
    "        if f(x[i]) < f(x[i + 1]):\n",
    "            increase_high = False\n",
    "            change_function[x[i]] = 'inc'\n",
    "    else:\n",
    "        if f(x[i]) > f(x[i + 1]):\n",
    "            increase_high = True\n",
    "            change_function[x[i]] = 'inc'\n",
    "\n",
    "change_function[limit] = 'inc'\n",
    "x_list = [key for key in change_function]\n",
    "\n",
    "print(change_function)"
   ]
  },
  {
   "cell_type": "code",
   "execution_count": 92,
   "id": "5375db10",
   "metadata": {},
   "outputs": [
    {
     "data": {
      "image/png": "[encoded data removed]",
      "text/plain": [
       "<Figure size 640x480 with 1 Axes>"
      ]
     },
     "metadata": {},
     "output_type": "display_data"
    }
   ],
   "source": [
    "for i in range(len(x_list) - 1):\n",
    "    x_cur = np.arange(x_list[i], x_list[i + 1], step)\n",
    "    if change_function.get(x_list[i]) == 'zero':\n",
    "        plt.plot(x_list[i], f(x_list[i]))\n",
    "        \n",
    "    elif change_function.get(x_list[i]) == 'inc':\n",
    "         plt.plot(x_cur, f(x_cur), color)"
   ]
  },
  {
   "cell_type": "code",
   "execution_count": 90,
   "id": "337e4bd3",
   "metadata": {},
   "outputs": [],
   "source": [
    "plt.show ()"
   ]
  }
 ],
 "metadata": {
  "kernelspec": {
   "display_name": "Python 3 (ipykernel)",
   "language": "python",
   "name": "python3"
  },
  "language_info": {
   "codemirror_mode": {
    "name": "ipython",
    "version": 3
   },
   "file_extension": ".py",
   "mimetype": "text/x-python",
   "name": "python",
   "nbconvert_exporter": "python",
   "pygments_lexer": "ipython3",
   "version": "3.9.13"
  }
 },
 "nbformat": 4,
 "nbformat_minor": 5
}
